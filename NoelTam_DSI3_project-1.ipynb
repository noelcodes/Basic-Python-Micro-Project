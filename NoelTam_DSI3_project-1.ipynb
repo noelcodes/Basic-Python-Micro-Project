{
 "cells": [
  {
   "cell_type": "markdown",
   "metadata": {},
   "source": [
    "<img src=\"http://imgur.com/1ZcRyrc.png\" style=\"float: left; margin: 15px; height: 80px\">\n",
    "\n",
    "# Project 1\n",
    "\n",
    "### Building \"Pokemon Stay\"\n",
    "\n",
    "---\n",
    "You are an analyst at a \"scrappy\" online gaming company that specializes in remakes of last year's fads.\n",
    "\n",
    "Your boss, who runs the product development team, is convinced that Pokemon Go's fatal flaw was that you had to actually move around outside. She has design mock-ups for a new game called Pokemon Stay: in this version players still need to move, but just from website to website. Pokemon gyms are now popular online destinations, and catching Pokemon in the \"wild\" simply requires browsing the internet for hours in the comfort of your home.\n",
    "\n",
    "She wants you to program a prototype version of the game, and analyze the planned content to help the team calibrate the design."
   ]
  },
  {
   "cell_type": "markdown",
   "metadata": {},
   "source": [
    "#### Package imports\n",
    "\n",
    "The pprint package below is the only package imported here, and it's not even strictly required to do any of the project. Printing python variables and objects with pprint can help to format them in a \"prettier\" way."
   ]
  },
  {
   "cell_type": "code",
   "execution_count": 4,
   "metadata": {},
   "outputs": [],
   "source": [
    "from pprint import pprint"
   ]
  },
  {
   "cell_type": "markdown",
   "metadata": {},
   "source": [
    "<img src=\"http://imgur.com/l5NasQj.png\" style=\"float: left; margin: 25px 15px 0px 0px; height: 25px\">\n",
    "\n",
    "## 1. Defining a player\n",
    "\n",
    "---\n",
    "\n",
    "The player variables are:\n",
    "\n",
    "    player_id : id code unique to each player (integer)\n",
    "    player_name : entered name of the player (string)\n",
    "    time_played : number of time played the game in minutes (float)\n",
    "    player_pokemon: the player's captured pokemon (dictionary)\n",
    "    gyms_visited: ids of the gyms that a player has visited (list)\n",
    "    \n",
    "Create the components for a player object by defining each of these variables. The dictionary and list variables should just be defined as empty; you can use any (correctly typed) values for the others."
   ]
  },
  {
   "cell_type": "markdown",
   "metadata": {},
   "source": [
    "#### Noel's comment:\n",
    "But not sure what format the question want? Because the following questions below made player_id a KEY, and the rest are dictionay values. I go with the format below:"
   ]
  },
  {
   "cell_type": "code",
   "execution_count": 5,
   "metadata": {},
   "outputs": [
    {
     "data": {
      "text/plain": [
       "{0: {'gyms_visited': [],\n",
       "  'player_name': '',\n",
       "  'player_pokemon': {},\n",
       "  'time_played': 0.0}}"
      ]
     },
     "execution_count": 5,
     "metadata": {},
     "output_type": "execute_result"
    }
   ],
   "source": [
    "players = { 0 : \n",
    "              {   'player_name' : '',\n",
    "                  'time_played' : 0.0,\n",
    "                  'player_pokemon' : {},\n",
    "                  'gyms_visited' : []\n",
    "              }\n",
    "         }\n",
    "players"
   ]
  },
  {
   "cell_type": "markdown",
   "metadata": {},
   "source": [
    "<img src=\"http://imgur.com/l5NasQj.png\" style=\"float: left; margin: 25px 15px 0px 0px; height: 25px\">\n",
    "\n",
    "## 2. Defining \"gym\" locations\n",
    "\n",
    "---\n",
    "\n",
    "As the sole programmer, Pokemon Stay will have to start small. To begin, there will be 10 different gym location websites on the internet. The gym locations are:\n",
    "\n",
    "    1. 'reddit.com'\n",
    "    2. 'amazon.com'\n",
    "    3. 'twitter.com'\n",
    "    4. 'linkedin.com'\n",
    "    5. 'ebay.com'\n",
    "    6. 'netflix.com'\n",
    "    7. 'sporcle.com'\n",
    "    8. 'stackoverflow.com'\n",
    "    9. 'github.com'\n",
    "    10. 'quora.com'\n",
    "\n",
    "1. Set up a list of all the gym locations. This will be a list of strings.\n",
    "2. Append two of these locations to your player's list of visited gyms.\n",
    "3. Print the list."
   ]
  },
  {
   "cell_type": "markdown",
   "metadata": {},
   "source": [
    "#### Noel's Comment\n",
    "Again the question is not specific, as there is no players yet. \n",
    "However, I have appended 2x locations as such."
   ]
  },
  {
   "cell_type": "code",
   "execution_count": 6,
   "metadata": {},
   "outputs": [
    {
     "data": {
      "text/plain": [
       "{0: {'gyms_visited': ['twitter.com', 'github.com'],\n",
       "  'player_name': '',\n",
       "  'player_pokemon': {},\n",
       "  'time_played': 0.0}}"
      ]
     },
     "execution_count": 6,
     "metadata": {},
     "output_type": "execute_result"
    }
   ],
   "source": [
    "#1. Set up a list of all the gym locations. This will be a list of strings.\n",
    "pokemon_gyms = ['reddit.com', \n",
    "                 'amazon.com',\n",
    "                 'twitter.com',\n",
    "                 'linkedin.com',\n",
    "                 'ebay.com',\n",
    "                 'netflix.com',\n",
    "                 'sporcle.com',\n",
    "                 'stackoverflow.com',\n",
    "                 'github.com',\n",
    "                 'quora.com']\n",
    "\n",
    "#2. Append two of these locations to your player's list of visited gyms.\n",
    "    # Note it errors if we do gyms_visited.append('ebay.com','netflix.com'), because append only takes one argument.\n",
    "players[0]['gyms_visited'].append(pokemon_gyms[2])\n",
    "players[0]['gyms_visited'].append(pokemon_gyms[8])\n",
    "\n",
    "#3. Print the list.\n",
    "players"
   ]
  },
  {
   "cell_type": "markdown",
   "metadata": {},
   "source": [
    "<img src=\"http://imgur.com/l5NasQj.png\" style=\"float: left; margin: 25px 15px 0px 0px; height: 25px\">\n",
    "\n",
    "## 3. Create a pokedex\n",
    "\n",
    "---\n",
    "\n",
    "We also need to create some pokemon to catch. Each pokemon will be defined by these variables:\n",
    "\n",
    "    pokemon_id : unique identifier for each pokemon (integer)\n",
    "    name : the name of the pokemon (string)\n",
    "    type : the category of pokemon (string)\n",
    "    hp : base hitpoints (integer)\n",
    "    attack : base attack (integer)\n",
    "    defense : base defense (integer)\n",
    "    special_attack : base special attack (integer)\n",
    "    special_defense : base sepecial defense (integer)\n",
    "    speed : base speed (integer)\n",
    "\n",
    "We are only going to create 3 different pokemon with these `pokemon_id` and `pokemon_name` values:\n",
    "\n",
    "    1 : 'charmander'\n",
    "    2 : 'squirtle'\n",
    "    3 : 'bulbasaur'\n",
    "\n",
    "Create a dictionary that will contain the pokemon. The keys of the dictionary will be the `pokemon_id` and the values will themselves dictionaries that contain the other pokemon variables. The structure of the pokedex dictionary will start like so:\n",
    "     \n",
    "     {\n",
    "         1: {\n",
    "                 'name':'charmander',\n",
    "                 'type':'fire',\n",
    "                 ...\n",
    "                 \n",
    "The `type` of charmander, squirtle, and bulbasaur should be `'fire'`, `'water'`, and `'poison'` respectively. The other values are up to you, make them anything you like!\n",
    "\n",
    "Print (or pretty print) the pokedex dictionary with the 3 pokemon."
   ]
  },
  {
   "cell_type": "markdown",
   "metadata": {},
   "source": [
    "# Noel:\n",
    "#### Create 3 different pokemon with these `pokemon_id` and `pokemon_name` values:\n",
    " Final output should be\n",
    " pokedex = <br>\n",
    " {  <br>\n",
    "    1: {'name':'charmander', 'type':'fire', 'hp':[],.... }<br>\n",
    "    2: {'name':'squirtle', 'type':'water', 'hp':[],.... }<br>\n",
    "    3: {'name':'bulbasaur', 'type':'poison', 'hp':[], ... }<br>\n",
    " }<br>\n",
    " \n",
    "#### My approach:\n",
    "- Emerate a short list to a dictionary.\n",
    "- Then create its value as another set of dictionary. \n",
    "{1: {}, 2: {}, 3: {}}\n",
    "- Manually define ONE set of attributes into the sub_dictionary as KEYS, where values are EMPTY.\n",
    "- For loop to create a new set of dictionary, where main KEY is pokemon_id, VALUES are the attributes. <br>\n",
    "{1: {'attack':0,'defense':0,'hp': 0,'name': '','special_attack': 0,'special_defense': 0,'speed': 0,'total': 0,'type': ''},<br>\n",
    "{2: {'attack':0,'defense':0,'hp': 0,'name': '','special_attack': 0,'special_defense': 0,'speed': 0,'total': 0,'type': ''},<br>\n",
    "..... etc\n",
    "- Create a list of values according to its key attributes. Example:<br>\n",
    "pokemon_name = ['charmander','squirtle','bulbasaur'] <br>\n",
    "pokemon_type = ['fire', 'water', 'poison']\n",
    "- Create functions to insert the below values, respectively to its keys.\n",
    "\n",
    "####So here we go..!"
   ]
  },
  {
   "cell_type": "code",
   "execution_count": 7,
   "metadata": {
    "scrolled": false
   },
   "outputs": [
    {
     "data": {
      "text/plain": [
       "{1: {}, 2: {}, 3: {}}"
      ]
     },
     "execution_count": 7,
     "metadata": {},
     "output_type": "execute_result"
    }
   ],
   "source": [
    "#Step 1: create dict for the keys\n",
    "pokemon_id = [1,2,3]\n",
    "pokedex = {}\n",
    "for i, row in enumerate(pokemon_id,1):\n",
    "    pokedex[i] = {}\n",
    "pokedex"
   ]
  },
  {
   "cell_type": "markdown",
   "metadata": {},
   "source": [
    "### Noel's Comments\n",
    "Below are history how I bulid from a simple emtry to a comprehensive method.\n",
    "\n",
    "#### Building 1\n",
    "pokedex[1] = {'name': '','type': '' }<br>\n",
    "pokedex[2] = {'name': '','type': '' }<br>\n",
    "pokedex[3] = {'name': '','type': '' }<br>\n",
    "pokedex<br>\n",
    "\n",
    "Out[]<br>\n",
    "{1: {'name': '', 'type': ''},<br>\n",
    " 2: {'name': '', 'type': ''},<br>\n",
    " 3: {'name': '', 'type': ''}}<br>\n",
    "\n",
    "#### Building 2\n",
    "for x in pokedex:<br>\n",
    "    pokedex[x] = {'name': '','type' : ''}<br>\n",
    "pokedex<br>\n",
    "Out[]<br>\n",
    "{1: {'name': '', 'type': ''},<br>\n",
    " 2: {'name': '', 'type': ''},<br>\n",
    " 3: {'name': '', 'type': ''}}<br>\n",
    "<br>\n",
    "\n",
    "#### Building 3<br>\n",
    "for x in pokedex:<br>\n",
    "    pokedex[x] = {'name': '','type' : ''}<br>\n",
    "pokedex<br>\n",
    "{1: {'name': '', 'type': ''},<br>\n",
    " 2: {'name': '', 'type': ''},<br>\n",
    " 3: {'name': '', 'type': ''}}<br>\n",
    "<br>\n",
    "#### Building 4 => to comprehension method<br>\n",
    "d = {key: value for (key, value) in iterable}<br>\n",
    "pokedex = {x : {'name': '', 'type': ''} for x in pokemon_id}<br>\n",
    "pokedex<br>\n",
    "Out[]<br>\n",
    "{1: {'name': '', 'type': ''},<br>\n",
    " 2: {'name': '', 'type': ''},<br>\n",
    " 3: {'name': '', 'type': ''}}<br>\n",
    "<br>\n",
    "#### Testing Building 4<br>\n",
    "pokedex[1]['name'] = 'rrr'<br>\n",
    "pokedex<br>\n",
    "Out:<br>\n",
    "{1: {'name': 'rrr', 'type': ''},<br>\n",
    " 2: {'name': '', 'type': ''},<br>\n",
    " 3: {'name': '', 'type': ''}}<br>\n",
    "<br>\n",
    "# IT WORKS !! So now put the full code...."
   ]
  },
  {
   "cell_type": "code",
   "execution_count": 8,
   "metadata": {},
   "outputs": [
    {
     "data": {
      "text/plain": [
       "{1: {'attack': 0,\n",
       "  'defense': 0,\n",
       "  'hp': 0,\n",
       "  'name': '',\n",
       "  'special_attack': 0,\n",
       "  'special_defense': 0,\n",
       "  'speed': 0,\n",
       "  'total': 0,\n",
       "  'type': ''},\n",
       " 2: {'attack': 0,\n",
       "  'defense': 0,\n",
       "  'hp': 0,\n",
       "  'name': '',\n",
       "  'special_attack': 0,\n",
       "  'special_defense': 0,\n",
       "  'speed': 0,\n",
       "  'total': 0,\n",
       "  'type': ''},\n",
       " 3: {'attack': 0,\n",
       "  'defense': 0,\n",
       "  'hp': 0,\n",
       "  'name': '',\n",
       "  'special_attack': 0,\n",
       "  'special_defense': 0,\n",
       "  'speed': 0,\n",
       "  'total': 0,\n",
       "  'type': ''}}"
      ]
     },
     "execution_count": 8,
     "metadata": {},
     "output_type": "execute_result"
    }
   ],
   "source": [
    "pokedex = {x : {'name': '', 'type': '','total' : 0 ,'hp' : 0, 'attack' : 0, \n",
    "                'defense' : 0, 'special_attack' : 0, 'special_defense' : 0, \n",
    "                'speed' : 0} \n",
    "           for x in pokemon_id}\n",
    "pokedex"
   ]
  },
  {
   "cell_type": "markdown",
   "metadata": {},
   "source": [
    "### Noel's Comments\n",
    "#### Now put in the values\n",
    "   1: {'name':'charmander', 'type':'fire', 'hp':[],.... } <br>\n",
    "   2: {'name':'squirtle', 'type':'water', 'hp':[],.... } <br>\n",
    "   3: {'name':'bulbasaur', 'type':'poison', 'hp':[], ... }<br>"
   ]
  },
  {
   "cell_type": "code",
   "execution_count": 9,
   "metadata": {},
   "outputs": [],
   "source": [
    "pokemon_name = ['charmander','squirtle','bulbasaur']\n",
    "pokemon_type = ['fire', 'water', 'poison']\n",
    "# Question did not specify the values of each pokemon, so I will just add in my own value\n",
    "pokemon_attack = [123,153,143]\n",
    "pokemon_defense = [163,119,125]\n",
    "pokemon_hp = [34,22,46]\n",
    "pokemon_special_attack = [78,98,87]\n",
    "pokemon_special_defense = [65,44,56]\n",
    "pokemon_speed = [654,852,796]\n",
    "# Extra added for Question 7, when Total Pokemon Power is needed\n",
    "pokemon_total = [2056,2630,2396]"
   ]
  },
  {
   "cell_type": "markdown",
   "metadata": {},
   "source": [
    "### Noel: Create a function to insert values"
   ]
  },
  {
   "cell_type": "code",
   "execution_count": 10,
   "metadata": {},
   "outputs": [],
   "source": [
    "def insert_single_pokemon_values(pokemon_dict,p_id, key_list, value_list):\n",
    "    pokemon_dict[p_id][key_list] = value_list\n",
    "    return pokemon_dict    "
   ]
  },
  {
   "cell_type": "markdown",
   "metadata": {},
   "source": [
    "### Noel: Create a for loop, calling function to insert values LIST "
   ]
  },
  {
   "cell_type": "code",
   "execution_count": 11,
   "metadata": {},
   "outputs": [],
   "source": [
    "for i , x in enumerate(pokemon_name,1):\n",
    "    insert_single_pokemon_values(pokedex, i ,'name', x)\n",
    "    \n",
    "for i , x in enumerate(pokemon_type,1):\n",
    "    insert_single_pokemon_values(pokedex, i ,'type', x)\n",
    "    \n",
    "# Question did not specify the values of each pokemon, so I will just add in my own value\n",
    "for i , x in enumerate(pokemon_attack,1):\n",
    "    insert_single_pokemon_values(pokedex, i ,'attack', x)\n",
    "    \n",
    "for i , x in enumerate(pokemon_defense,1):\n",
    "    insert_single_pokemon_values(pokedex, i ,'defense', x)\n",
    "    \n",
    "for i , x in enumerate(pokemon_hp,1):\n",
    "    insert_single_pokemon_values(pokedex, i ,'hp', x)\n",
    "    \n",
    "for i , x in enumerate(pokemon_special_attack,1):\n",
    "    insert_single_pokemon_values(pokedex, i ,'special_attack', x)\n",
    "    \n",
    "for i , x in enumerate(pokemon_special_defense,1):\n",
    "    insert_single_pokemon_values(pokedex, i ,'special_defense', x)\n",
    "    \n",
    "for i , x in enumerate(pokemon_speed ,1):\n",
    "    insert_single_pokemon_values(pokedex, i ,'speed', x)\n",
    "    \n",
    "# Extra added for Question 7, when Total Pokemon Power is needed\n",
    "\n",
    "for i , x in enumerate(pokemon_total ,1):\n",
    "    insert_single_pokemon_values(pokedex, i ,'total', x)\n",
    "    "
   ]
  },
  {
   "cell_type": "code",
   "execution_count": 12,
   "metadata": {},
   "outputs": [
    {
     "data": {
      "text/plain": [
       "{1: {'attack': 123,\n",
       "  'defense': 163,\n",
       "  'hp': 34,\n",
       "  'name': 'charmander',\n",
       "  'special_attack': 78,\n",
       "  'special_defense': 65,\n",
       "  'speed': 654,\n",
       "  'total': 2056,\n",
       "  'type': 'fire'},\n",
       " 2: {'attack': 153,\n",
       "  'defense': 119,\n",
       "  'hp': 22,\n",
       "  'name': 'squirtle',\n",
       "  'special_attack': 98,\n",
       "  'special_defense': 44,\n",
       "  'speed': 852,\n",
       "  'total': 2630,\n",
       "  'type': 'water'},\n",
       " 3: {'attack': 143,\n",
       "  'defense': 125,\n",
       "  'hp': 46,\n",
       "  'name': 'bulbasaur',\n",
       "  'special_attack': 87,\n",
       "  'special_defense': 56,\n",
       "  'speed': 796,\n",
       "  'total': 2396,\n",
       "  'type': 'poison'}}"
      ]
     },
     "execution_count": 12,
     "metadata": {},
     "output_type": "execute_result"
    }
   ],
   "source": [
    "pokedex"
   ]
  },
  {
   "cell_type": "markdown",
   "metadata": {},
   "source": [
    "<img src=\"http://imgur.com/l5NasQj.png\" style=\"float: left; margin: 25px 15px 0px 0px; height: 25px\">\n",
    "\n",
    "## 4. Create a data structure for players\n",
    "\n",
    "---\n",
    "\n",
    "### 4.1 \n",
    "\n",
    "In order to maintain a database of multiple players, create a dictionary that keeps track of players indexed by `player_id`. \n",
    "\n",
    "The keys of the dictionary will be `player_id` and values will be dictionaries containing each player's variables (from question 1). \n",
    "\n",
    "Construct the `players` dictionary and insert the player that you defined in question 1, then print `players`."
   ]
  },
  {
   "cell_type": "markdown",
   "metadata": {},
   "source": [
    "### Noel:\n",
    "My approach is almost the same as how i do for the Pokedex\n",
    "- Emerate a short list to a dictionary.\n",
    "- Then create its value as another set of dictionary. \n",
    "{1: {}, 2: {}, 3: {}}\n",
    "- Manually define ONE set of attributes into the sub_dictionary as KEYS, where values are EMPTY.\n",
    "- For loop to create a new set of dictionary, where main KEY is pokemon_id, VALUES are the attributes. <br>\n",
    "{1: {'gyms_visited': [],  'player_name': '',  'player_pokemon': {},  'time_played': 0.0}, ..... etc\n",
    "- Create a list of values according to its key attributes. Example:<br>\n",
    "\n",
    "####So here we go..!"
   ]
  },
  {
   "cell_type": "code",
   "execution_count": 13,
   "metadata": {},
   "outputs": [
    {
     "data": {
      "text/plain": [
       "{1: {}, 2: {}}"
      ]
     },
     "execution_count": 13,
     "metadata": {},
     "output_type": "execute_result"
    }
   ],
   "source": [
    "player_id = [1,2]\n",
    "players = {}\n",
    "for i, row in enumerate(player_id,1):\n",
    "    players[i] = {}\n",
    "players"
   ]
  },
  {
   "cell_type": "code",
   "execution_count": 14,
   "metadata": {},
   "outputs": [
    {
     "data": {
      "text/plain": [
       "{1: {'gyms_visited': [],\n",
       "  'player_name': '',\n",
       "  'player_pokemon': {},\n",
       "  'time_played': 0.0},\n",
       " 2: {'gyms_visited': [],\n",
       "  'player_name': '',\n",
       "  'player_pokemon': {},\n",
       "  'time_played': 0.0}}"
      ]
     },
     "execution_count": 14,
     "metadata": {},
     "output_type": "execute_result"
    }
   ],
   "source": [
    "players = {z : {'player_name' : '' , 'time_played' : 0.0 , 'player_pokemon' : {} , 'gyms_visited' : [] } for z in player_id}\n",
    "players"
   ]
  },
  {
   "cell_type": "markdown",
   "metadata": {},
   "source": [
    "## Noel:\n",
    "### For sharing, I was stuck on this codes for a long time, before I decided to re-do the codes again. <br>\n",
    "### Can anyone find out where is the problem?"
   ]
  },
  {
   "cell_type": "markdown",
   "metadata": {},
   "source": [
    "\n",
    "<img src=\"https://i.imgur.com/phn1Pc1.jpg\" >"
   ]
  },
  {
   "cell_type": "markdown",
   "metadata": {},
   "source": [
    "---\n",
    "\n",
    "### 4.2\n",
    "\n",
    "Create a new player with `player_id = 2` in the `players` dictionary. Leave the `'player_pokemon'` dictionary empty. Append `'alcatraz'` and `'pacific_beach'` to the `'gyms_visited'` list for player 2.\n",
    "\n",
    "The `'player_name'` and `'time_played'` values are up to you, but must be a string and float, respectively.\n",
    "\n",
    "Remember, the player_id is the key for the player in the players dictionary.\n",
    "\n",
    "Print the `players` dictionary with the new player inserted."
   ]
  },
  {
   "cell_type": "markdown",
   "metadata": {},
   "source": [
    "### Noel:\n",
    "I have done manually at first, but soon I realized, this is not challenging. <br>\n",
    "So again I create a FUNCTION to insert values into respective attributes.\n",
    "\n",
    "manual insertion method <br>\n",
    "players[2]['gyms_visited'] = ['alcatraz' , 'pacific_beach']  <br>\n",
    "players[2]['player_name'] = 'Noel'<br>\n",
    "players[2]['time_played'] = '15.21'<br>\n",
    "players<br>\n",
    "\n",
    "###Let's try doing function."
   ]
  },
  {
   "cell_type": "markdown",
   "metadata": {},
   "source": [
    "### Create a function for player's value insertion"
   ]
  },
  {
   "cell_type": "code",
   "execution_count": 15,
   "metadata": {},
   "outputs": [],
   "source": [
    "def insert_single_player_values(ply_dict,ply_id, val_name, val):\n",
    "    ply_dict[ply_id][val_name] = val\n",
    "    return ply_dict "
   ]
  },
  {
   "cell_type": "code",
   "execution_count": 16,
   "metadata": {},
   "outputs": [
    {
     "data": {
      "text/plain": [
       "{1: {'gyms_visited': [],\n",
       "  'player_name': '',\n",
       "  'player_pokemon': {},\n",
       "  'time_played': 0.0},\n",
       " 2: {'gyms_visited': ['alcatraz', 'pacific_beach'],\n",
       "  'player_name': 'Noel',\n",
       "  'player_pokemon': {},\n",
       "  'time_played': '15.21'}}"
      ]
     },
     "execution_count": 16,
     "metadata": {},
     "output_type": "execute_result"
    }
   ],
   "source": [
    "# Now insert values thru Function\n",
    "insert_single_player_values(players,2, 'player_name', 'Noel' )\n",
    "insert_single_player_values(players,2, 'time_played', '15.21' )\n",
    "insert_single_player_values(players,2, 'gyms_visited', ['alcatraz' , 'pacific_beach'] )"
   ]
  },
  {
   "cell_type": "markdown",
   "metadata": {},
   "source": [
    "<img src=\"http://imgur.com/l5NasQj.png\" style=\"float: left; margin: 25px 15px 0px 0px; height: 25px\">\n",
    "\n",
    "## 5. Add captured pokemon for each player\n",
    "\n",
    "---\n",
    "\n",
    "The `'player_pokemon'` keyed dictionaries for each player keep track of which of the pokemon each player has.\n",
    "\n",
    "The keys of the `'player_pokemon'` dictionaries are the pokemon ids that correspond to the ids in the `pokedex` dictionary you created earlier. The values are integers specifying the stats for the pokemon.\n",
    "\n",
    "Give player 1 a squirtle. Give player 2 charmander and a bulbasaur.\n",
    "\n",
    "Print the players dictionary after adding the pokemon for each player.\n"
   ]
  },
  {
   "cell_type": "markdown",
   "metadata": {},
   "source": [
    "### Noel:\n",
    "Since I have created a function to add values, now this question can be done easily using same FUNCTION."
   ]
  },
  {
   "cell_type": "code",
   "execution_count": 17,
   "metadata": {},
   "outputs": [
    {
     "data": {
      "text/plain": [
       "{1: {'gyms_visited': ['quora.com', 'twitter.com', 'linkedin.com'],\n",
       "  'player_name': 'Edo',\n",
       "  'player_pokemon': ['squirtle'],\n",
       "  'time_played': '24.21'},\n",
       " 2: {'gyms_visited': ['ebay.com', 'netflix.com'],\n",
       "  'player_name': 'Noel',\n",
       "  'player_pokemon': ['charmander', 'bulbasaur'],\n",
       "  'time_played': '15.21'}}"
      ]
     },
     "execution_count": 17,
     "metadata": {},
     "output_type": "execute_result"
    }
   ],
   "source": [
    "# For Question 6, I have added more data than required from Question 5\n",
    "insert_single_player_values(players,1, 'player_pokemon', ['squirtle'] )\n",
    "insert_single_player_values(players,1, 'player_name', 'Edo' )\n",
    "insert_single_player_values(players,1, 'time_played', '24.21' )\n",
    "insert_single_player_values(players,1, 'gyms_visited', ['quora.com', 'twitter.com', 'linkedin.com'] )\n",
    "insert_single_player_values(players,2, 'player_pokemon', ['charmander', 'bulbasaur'] )\n",
    "insert_single_player_values(players,2, 'gyms_visited', ['ebay.com', 'netflix.com'] )\n",
    "players"
   ]
  },
  {
   "cell_type": "markdown",
   "metadata": {},
   "source": [
    "\n",
    "\n",
    "## 6. What gyms have players visited?\n",
    "\n",
    "---\n",
    "<img src=\"http://imgur.com/l5NasQj.png\" style=\"float: left; margin: 25px 15px 0px 0px; height: 25px\">\n",
    "### 6.1\n",
    "\n",
    "Write a for-loop that:\n",
    "\n",
    "1. Iterates through the `pokemon_gyms` list of gym locations you defined before.\n",
    "2. For each gym, iterate through each player in the `players` dictionary with a second, internal for-loop.\n",
    "3. If the player has visited the gym, print out \"[player] has visited [gym location].\", filling in [player] and [gym location] with the current player's name and current gym location."
   ]
  },
  {
   "cell_type": "markdown",
   "metadata": {},
   "source": [
    "## Noel: \n",
    "Question 6.1 suggested output is:  <br>\n",
    "Noel has visited ebay.com, netflix.com.<br>\n",
    "Edo has visited github.com, quora.com.<br>"
   ]
  },
  {
   "cell_type": "code",
   "execution_count": 18,
   "metadata": {},
   "outputs": [
    {
     "name": "stdout",
     "output_type": "stream",
     "text": [
      "Edo has visied twitter.com\n",
      "Edo has visied linkedin.com\n",
      "Noel has visied ebay.com\n",
      "Noel has visied netflix.com\n",
      "Edo has visied quora.com\n",
      "50\n"
     ]
    }
   ],
   "source": [
    "# Solution1\n",
    "loop_count = 0\n",
    "for i in pokemon_gyms:\n",
    "    for x in players:\n",
    "        for z in players[x]['gyms_visited']:\n",
    "            if z == i:\n",
    "                print  players[x]['player_name'] + \" has visied \" + z\n",
    "                loop_count += 1\n",
    "            else:\n",
    "                loop_count += 1\n",
    "               \n",
    "            \n",
    "print loop_count            "
   ]
  },
  {
   "cell_type": "markdown",
   "metadata": {},
   "source": [
    "<img src=\"http://imgur.com/xDpSobf.png\" style=\"float: left; margin: 25px 15px 0px 0px; height: 25px\">\n",
    "### 6.2\n",
    "\n",
    "How many times did that loop run? If you have N gyms and also N players, how many times would it run as a function of N?\n",
    "\n",
    "Can you think of a more efficient way to accomplish the same thing? \n",
    "\n",
    "(You can write your answer as Markdown text.)"
   ]
  },
  {
   "cell_type": "markdown",
   "metadata": {},
   "source": [
    "### Noel:\n",
    "#### Solution to 6.2:\n",
    "Number of loops varies, depending on number of gym visited from each player.\n",
    "The more gyms visited, the more loops required.\n",
    "In my above example, my loop count runs 50. "
   ]
  },
  {
   "cell_type": "code",
   "execution_count": 19,
   "metadata": {},
   "outputs": [
    {
     "data": {
      "text/plain": [
       "[('Edo', ['quora.com', 'twitter.com', 'linkedin.com']),\n",
       " ('Noel', ['ebay.com', 'netflix.com'])]"
      ]
     },
     "execution_count": 19,
     "metadata": {},
     "output_type": "execute_result"
    }
   ],
   "source": [
    "# Efficent way? Just grab directly thru keys from dictionary\n",
    "[ (players[x]['player_name'] , players[x]['gyms_visited']  ) for x in players.keys()]"
   ]
  },
  {
   "cell_type": "markdown",
   "metadata": {},
   "source": [
    "<img src=\"http://imgur.com/l5NasQj.png\" style=\"float: left; margin: 25px 15px 0px 0px; height: 25px\">\n",
    "\n",
    "## 7. Calculate player \"power\".\n",
    "\n",
    "---\n",
    "\n",
    "Define a function that will calculate a player's \"power\". Player power is defined as the sum of the base statistics all of their pokemon.\n",
    "\n",
    "Your function will:\n",
    "\n",
    "1. Accept the `players` dictionary, `pokedex` dictionary, and a player_id as arguments.\n",
    "2. For the specified player_id, look up that player's pokemon and their level(s).\n",
    "3. Find and aggregate the attack and defense values for each of the player's pokemon from the `pokedex` dictionary.\n",
    "4. Print \"[player name]'s power is [player power].\", where the player power is the sum of the base statistics for all of their pokemon.\n",
    "5. Return the player's power value.\n",
    "\n",
    "Print out the pokemon power for each of your players."
   ]
  },
  {
   "cell_type": "markdown",
   "metadata": {},
   "source": [
    "### Noel:\n",
    "Question 7 wants us to print out as such: <br>\n",
    "Noel's power is XXX.<br>\n",
    "Edo's power is XXX."
   ]
  },
  {
   "cell_type": "markdown",
   "metadata": {},
   "source": [
    "#### My approach\n",
    "- A few questions to answer. \n",
    "- Who caught what pokemon?  ==> Noel: grab from Keys from dictionary.\n",
    "- How much power does each pokeman have? ==> Noel's assumption: Pokeman power = 'Total' attribute. (Yes!, I'm lazy)\n",
    "- What is the formula to pokeman's power? ==> Noel's assumption: no formula, just take 'Total'.\n",
    "- How much accumulated Pokemon power does each player have? ==> Noel's assumption: Sum of 'Total'.\n",
    "\n",
    "-- First find WHO caught WHAT? <br>\n",
    "-- Find out the Pokemon_id of each caught pokemon.<br>\n",
    "-- Using the Pokemon_id, we can retreive it's 'Total' power.<br>\n",
    "-- Then sum up ALL caught pokemon's total, return as Player's Power.<br>\n",
    "-- Do the same loop for next player."
   ]
  },
  {
   "cell_type": "code",
   "execution_count": 20,
   "metadata": {},
   "outputs": [
    {
     "name": "stdout",
     "output_type": "stream",
     "text": [
      "Edo power is 2630\n",
      "Noel power is 4452\n"
     ]
    }
   ],
   "source": [
    "def pokemon_index_finder(pk_dict, pk_name):\n",
    "    for key , value in pk_dict.iteritems():\n",
    "        if value['name'] == pk_name:\n",
    "            return int(key)\n",
    "\n",
    "def power_cal(pk_name,plyers,who,pk_dict):   # Who caught WHAT? Then calculate total Player's Power\n",
    "    total_power = 0\n",
    "    for i in pk_name:\n",
    "        for x in plyers:\n",
    "            if plyers[x]['player_name'] == who:\n",
    "                for z in plyers[x]['player_pokemon']:\n",
    "                    if z == i:         #if player caught this pokemon\n",
    "                        one_pokemon_name = z\n",
    "                        index = pokemon_index_finder(pokedex,one_pokemon_name)\n",
    "                        #print  plyers[x]['player_name'] + \" caught \" + z + \" pokemon_id is \" , index\n",
    "                        total_power = total_power + pk_dict[index]['total']   # Formula for power is not given in quesstion, so take 'sum of total'\n",
    "                        \n",
    "                    else:\n",
    "                        pass\n",
    "    return total_power  # Returns the total accumulated power from ONE specific player(who)\n",
    "\n",
    "statement1 = players[1]['player_name']  + ' power is ' + str(power_cal(pokemon_name,players, 'Edo', pokedex))\n",
    "statement2 = players[2]['player_name']  + ' power is ' + str(power_cal(pokemon_name,players, 'Noel', pokedex))\n",
    "\n",
    "print statement1\n",
    "print statement2"
   ]
  },
  {
   "cell_type": "markdown",
   "metadata": {
    "collapsed": true
   },
   "source": [
    "<img src=\"http://imgur.com/l5NasQj.png\" style=\"float: left; margin: 25px 15px 0px 0px; height: 25px\">\n",
    "\n",
    "## 8. Load a pokedex file containing all the pokemon\n",
    "\n",
    "---\n",
    "\n",
    "### 8.1\n",
    "\n",
    "While you were putting together the prototype code, your colleagues were preparing a dataset of Pokemon and their attributes. (This was a rush job, so they may have picked some crazy values for some...)\n",
    "\n",
    "The code below loads information from a comma separated value (csv) file. You need to parse this string into a more useable format. The format of the string is:\n",
    "\n",
    "- Rows are separated by newline characters: \\n\n",
    "- Columns are separated by commas: ,\n",
    "- All cells in the csv are double quoted. Ex: \"PokedexNumber\" is the first cell of the first row.\n",
    "\n",
    "\n",
    "Using for-loops, create a list of lists where each list within the overall list is a row of the csv/matrix, and each element in that list is a cell in that row. Additional criteria:\n",
    "\n",
    "1. Quotes are removed from each cell item.\n",
    "2. Numeric column values are converted to floats.\n",
    "3. There are some cells that are empty and have no information. For these cells put a -1 value in place.\n",
    "\n",
    "Your end result is effectively a matrix. Each list in the outer list is a row, and the *j*th elements of list together form the *j*th column, which represents a data attribute. The first three lists in your pokedex list should look like this:\n",
    "\n",
    "    ['PokedexNumber', 'Name', 'Type', 'Total', 'HP', 'Attack', 'Defense', 'SpecialAttack', 'SpecialDefense', 'Speed']\n",
    "    [1.0, 'Bulbasaur', 'GrassPoison', 318.0, 45.0, 49.0, 49.0, 65.0, 65.0, 45.0]\n",
    "    [2.0, 'Ivysaur', 'GrassPoison', 405.0, 60.0, 62.0, 63.0, 80.0, 80.0, 60.0]"
   ]
  },
  {
   "cell_type": "code",
   "execution_count": 21,
   "metadata": {},
   "outputs": [],
   "source": [
    "# Code to read in pokedex info\n",
    "raw_pd = ''\n",
    "pokedex_file = 'pokedex_basic.csv'\n",
    "with open(pokedex_file, 'r') as f:\n",
    "    raw_pd = f.read()\n",
    "    \n",
    "# the pokedex string is assigned to the raw_pd variable"
   ]
  },
  {
   "cell_type": "markdown",
   "metadata": {},
   "source": [
    "### Noel:\n",
    "raw_pd<br>\n",
    "'\"PokedexNumber\",\"Name\",\"Type\",\"Total\",\"HP\",\"Attack\",\"Defense\",\"SpecialAttack\",\"SpecialDefense\",\"Speed\"\\n\"001\",\n",
    "\"Bulbasaur\",\"GrassPoison\",\"318\",\"45\",\"49\",\"49\",\"65\",\"65\",\"45\"\\n\"002\",\"Ivysaur\",\"GrassPoison\",\"405\",\"60\",\"62\",\"63\",\n",
    "\"80\",\"80\",\"60\"\\n\"003\",\"Venusaur\",\"GrassPoison\",\"525\",\"80\",\"82\",\"83\",\"100\",\"100\",\"80\"\\n\"003\",\"VenusaurMega Venusaur\",\n",
    "\"GrassPoison\",\"625\",\"80\",\"100\",\"123\",\"122\",\"120\",\"80\"\\n\n",
    "\n",
    "Output is very messy, but you can see a few thing to do for cleaning.<br>\n",
    "Actually the question itsef has the details of the approach.\n",
    "\n",
    "- Every \\n splits each rows.\n",
    "- Remove punctuations ( quotation, comma)\n",
    "- Put them into proper LIST.\n",
    "- Then find all numbers to float.\n"
   ]
  },
  {
   "cell_type": "code",
   "execution_count": 22,
   "metadata": {},
   "outputs": [
    {
     "data": {
      "text/plain": [
       "[['PokedexNumber',\n",
       "  'Name',\n",
       "  'Type',\n",
       "  'Total',\n",
       "  'HP',\n",
       "  'Attack',\n",
       "  'Defense',\n",
       "  'SpecialAttack',\n",
       "  'SpecialDefense',\n",
       "  'Speed'],\n",
       " [1.0, 'Bulbasaur', 'GrassPoison', 318.0, 45.0, 49.0, 49.0, 65.0, 65.0, 45.0],\n",
       " [2.0, 'Ivysaur', 'GrassPoison', 405.0, 60.0, 62.0, 63.0, 80.0, 80.0, 60.0],\n",
       " [3.0, 'Venusaur', 'GrassPoison', 525.0, 80.0, 82.0, 83.0, 100.0, 100.0, 80.0]]"
      ]
     },
     "execution_count": 22,
     "metadata": {},
     "output_type": "execute_result"
    }
   ],
   "source": [
    "rows = raw_pd.replace('\"', '')             # replace \" with nothing.\n",
    "rows = rows.split('\\n')                    # for every \\n, create a LIST\n",
    "list1 = [row.split(',') for row in rows] # for every row, find comma , create a LIST \n",
    "\n",
    "pokedex_v2  = [list1[0]]                   # This is the header [['PokedexNumber','Name', ... etc]]\n",
    "\n",
    "for l in list1[1:]:                # list1[1:] is the data without header. But values are String.\n",
    "    rows2 = []\n",
    "    for i in l:                          # Now start working on float conversion. This runs each value one at a time.\n",
    "        try:                             # try function\n",
    "            rows2.append(float(i))       # if the float function works on i, then append float value\n",
    "        except ValueError:               # else it is a string. And it doesn't error out.\n",
    "            rows2.append(i)              # just append the string\n",
    "    pokedex_v2.append(rows2)   \n",
    "pokedex_v2[:4]                        # just checking with first 4 lines... to be neat."
   ]
  },
  {
   "cell_type": "markdown",
   "metadata": {},
   "source": [
    "<img src=\"http://imgur.com/xDpSobf.png\" style=\"float: left; margin: 25px 15px 0px 0px; height: 25px\">\n",
    "\n",
    "### 8.2 Parse the raw pokedex with list comprehensions\n",
    "\n",
    "---\n",
    "\n",
    "Perform the same parsing as above, but **using only a single list comprehension** instead of for loops. You may have nested list comprehensions within the main list comprehension! The output should be exactly the same."
   ]
  },
  {
   "cell_type": "markdown",
   "metadata": {},
   "source": [
    "## Oops!! How is this a Bonus question??? This should be a challenge 'C'."
   ]
  },
  {
   "cell_type": "markdown",
   "metadata": {},
   "source": [
    "<img src=\"http://imgur.com/l5NasQj.png\" style=\"float: left; margin: 25px 15px 0px 0px; height: 25px\">\n",
    "\n",
    "## 9. Write a function to generate the full pokedex\n",
    "\n",
    "---\n",
    "\n",
    "Write a function that recreates the pokedex you made before, but with the data read in from the full pokemon file. The `PokedexNumber` should be used as the `pokemon_id` key values for the dictionary of pokemon.\n",
    "\n",
    "Your function should:\n",
    "\n",
    "1. Take the parsed pokedex information you created above as an argument.\n",
    "2. Return a dictionary in the same format as your original pokedex you created before containing the information from the parsed full pokedex file.\n",
    "\n",
    "To test the function, print out the pokemon with id = 100."
   ]
  },
  {
   "cell_type": "markdown",
   "metadata": {},
   "source": [
    "#### Noel:\n",
    "My approach:\n",
    "- Grab the first row as header.\n",
    "- Iterate the rest of the rows, take column by column one at a time, as Dictionary KEY.\n",
    "- Take the column values ZIP with header created in the beginning.\n",
    "- Dump the Key and Value into a dictionary.\n",
    "- Repeat for all columns to form the entire Pokedex Version 2.\n",
    "- Check if id = 100 works. Yes it did!!"
   ]
  },
  {
   "cell_type": "code",
   "execution_count": 24,
   "metadata": {
    "scrolled": true
   },
   "outputs": [
    {
     "data": {
      "text/plain": [
       "{'Attack': 30.0,\n",
       " 'Defense': 50.0,\n",
       " 'HP': 40.0,\n",
       " 'Name': 'Voltorb',\n",
       " 'SpecialAttack': 55.0,\n",
       " 'SpecialDefense': 55.0,\n",
       " 'Speed': 100.0,\n",
       " 'Total': 330.0,\n",
       " 'Type': 'Electric'}"
      ]
     },
     "execution_count": 24,
     "metadata": {},
     "output_type": "execute_result"
    }
   ],
   "source": [
    "def pokemon_v2_data(p_dict_v2):\n",
    "    single_pk_dict = {}\n",
    "    header_v2 = p_dict_v2[0][1:]  # Out: ['Name', 'Type', 'Total', 'HP', 'Attack', 'Defense', 'SpecialAttack', 'SpecialDefense', 'Speed']\n",
    "    for row in p_dict_v2[1:]:      # iterate the whole data from row 1 to end, \n",
    "        dict_key = row[0]        # row[0] is 1st column, saved as a dictionary key a.k.a pokemon_id 1,2,3,4 etc...\n",
    "        value = dict(zip(header_v2,row[1:])) # row[1:] are values of HP, total...etc. ZIP with header above. => As dictionary value.\n",
    "        single_pk_dict[dict_key] = value # Out[] {'Name': 'Bulbasaur', 'SpecialAttack': 65.0, ,etc... }{'Name': 'Ivysaur',...etc\n",
    "    return single_pk_dict\n",
    "\n",
    "pokedex_v2 = pokemon_v2_data(pokedex_v2)\n",
    "pokedex_v2[100]   "
   ]
  },
  {
   "cell_type": "markdown",
   "metadata": {},
   "source": [
    "<img src=\"http://i.imgur.com/GCAf1UX.png\" style=\"float: left; margin: 25px 15px 0px 0px; height: 25px\">\n",
    "\n",
    "## 10. Write a function to generate a \"filtered\" pokedex\n",
    "---\n",
    "Your function should:\n",
    "1. Take the parsed pokedex information you created above as an argument.\n",
    "1. Take a dictionary as a parameter with keys matching the features of the Pokedex, filtering by exact match for string type values, and/or filter continuous variables specified value that is greater than or equal to the dictionary key parameter.\n",
    "1. Return multiple elements from the Pokedex\n",
    "\n",
    "Example:\n",
    "\n",
    "```python\n",
    "\n",
    "# Only filter based on parameters passed\n",
    "filter_options = {\n",
    "    'Attack':   25,\n",
    "    'Defense':  30,\n",
    "    'Type':     'Electric'\n",
    "}\n",
    "\n",
    "# Return records with attack >= 24, defense >= 30, and type == \"Electric\"\n",
    "# Also anticipate that other paramters can also be passed such as \"SpecialAttack\", \"Speed\", etc.\n",
    "filtered_pokedex(pokedex_data, filter=filter_options)\n",
    "\n",
    "# Example output:\n",
    "# [{'Attack': 30.0,\n",
    "#  'Defense': 50.0,\n",
    "#  'HP': 40.0,\n",
    "#  'Name': 'Voltorb',\n",
    "#  'SpecialAttack': 55.0,\n",
    "#  'SpecialDefense': 55.0,\n",
    "#  'Speed': 100.0,\n",
    "#  'Total': 330.0,\n",
    "#  'Type': 'Electric'},\n",
    "#  {'Attack': 30.0,\n",
    "#  'Defense': 33.0,\n",
    "#  'HP': 32.0,\n",
    "#  'Name': 'Pikachu',\n",
    "#  'SpecialAttack': 55.0,\n",
    "#  'SpecialDefense': 55.0,\n",
    "#  'Speed': 100.0,\n",
    "#  'Total': 330.0,\n",
    "#  'Type': 'Electric'},\n",
    "#  ... etc\n",
    "#  ]\n",
    "\n",
    "```\n",
    "\n"
   ]
  },
  {
   "cell_type": "markdown",
   "metadata": {},
   "source": [
    "### Noel:\n",
    "#### OK, finally works in the last min.!! Commited 2nd time.\n",
    "My Approach:\n",
    "- Iterate thru full dictionary.\n",
    "- Iterate thru filter options.\n",
    "- Take one pokemon for each loop.\n",
    "- if filter options matched dictionary key.\n",
    "- Take care of String and Numbers via Try and except\n",
    "- Fullfill the conditions\n",
    "- Loop the length of the filters to check the rest of the attributes.\n",
    "- Reset count = 0 \n",
    "- Redo for the next pokemon."
   ]
  },
  {
   "cell_type": "code",
   "execution_count": 25,
   "metadata": {},
   "outputs": [],
   "source": [
    "def filtered_pokedex(pk_dict, filters):\n",
    "\n",
    "    pk_dict_passed = {}\n",
    "    temp_dict = {}\n",
    "    count = 0\n",
    "    for pk_dict_key, inner_dict in pk_dict.items():\n",
    "        count = 0\n",
    "        for inner_dict_key, inner_dict_value in inner_dict.items():\n",
    "            #count = 0\n",
    "            for filter_key in filters:   # attack, defense\n",
    "                if filter_key == inner_dict_key :\n",
    "                    try :\n",
    "                        int(inner_dict_value)    # here we split String and numbers\n",
    "                        if filters[filter_key] < inner_dict[filter_key]: # Number\n",
    "                            count += 1                                   # Number   \n",
    "                            if count == len(filters):                    # Number\n",
    "                                pk_dict_passed[pk_dict_key] = inner_dict # Number \n",
    "                                count = 0                                # Number\n",
    "                    except ValueError:\n",
    "                        if filters[filter_key] == inner_dict[filter_key]: # String\n",
    "                            count += 1                                    # String   \n",
    "                            if count == len(filters):                     # String\n",
    "                                pk_dict_passed[pk_dict_key] = inner_dict  # String \n",
    "                                count = 0                                 # String\n",
    "    return pk_dict_passed"
   ]
  },
  {
   "cell_type": "code",
   "execution_count": 26,
   "metadata": {},
   "outputs": [],
   "source": [
    "filter_options = {\n",
    "    'Attack':   85,\n",
    "    'Defense':  20,\n",
    "    'HP': 70,\n",
    "    'Type': 'GrassPoison'\n",
    "}"
   ]
  },
  {
   "cell_type": "code",
   "execution_count": 27,
   "metadata": {},
   "outputs": [
    {
     "data": {
      "text/plain": [
       "{3.0: {'Attack': 100.0,\n",
       "  'Defense': 123.0,\n",
       "  'HP': 80.0,\n",
       "  'Name': 'VenusaurMega Venusaur',\n",
       "  'SpecialAttack': 122.0,\n",
       "  'SpecialDefense': 120.0,\n",
       "  'Speed': 80.0,\n",
       "  'Total': 625.0,\n",
       "  'Type': 'GrassPoison'},\n",
       " 71.0: {'Attack': 105.0,\n",
       "  'Defense': 65.0,\n",
       "  'HP': 80.0,\n",
       "  'Name': 'Victreebel',\n",
       "  'SpecialAttack': 100.0,\n",
       "  'SpecialDefense': 70.0,\n",
       "  'Speed': 70.0,\n",
       "  'Total': 490.0,\n",
       "  'Type': 'GrassPoison'}}"
      ]
     },
     "execution_count": 27,
     "metadata": {},
     "output_type": "execute_result"
    }
   ],
   "source": [
    "filtered_pokedex(pokedex_v2, filter_options)"
   ]
  },
  {
   "cell_type": "markdown",
   "metadata": {
    "collapsed": true
   },
   "source": [
    "\n",
    "## 9. Descriptive statistics on the prototype pokedex\n",
    "\n",
    "<img src=\"http://imgur.com/l5NasQj.png\" style=\"float: left; margin: 25px 15px 0px 0px; height: 25px\">\n",
    "### 9.1\n",
    "\n",
    "What is the population mean and standard deviation of the \"Total\" attribute for all characters in the Pokedex?\n",
    "\n"
   ]
  },
  {
   "cell_type": "markdown",
   "metadata": {},
   "source": [
    "### Noel:\n",
    "- Mean and Standard Deviation can be done via Numpy package.\n",
    "- But first must grab all 'Total' to a list."
   ]
  },
  {
   "cell_type": "code",
   "execution_count": 28,
   "metadata": {},
   "outputs": [
    {
     "name": "stdout",
     "output_type": "stream",
     "text": [
      "Mean is 424.9500693481276\n",
      "Standard Deviation is 118.71177581751657\n"
     ]
    }
   ],
   "source": [
    "import numpy as np\n",
    "total_attr = [pokedex_v2[x]['Total'] for x in pokedex_v2]\n",
    "mean = np.mean(total_attr)\n",
    "std = np.std(total_attr)\n",
    "\n",
    "print 'Mean is ' + str(mean)\n",
    "print 'Standard Deviation is ' + str(std)"
   ]
  },
  {
   "cell_type": "markdown",
   "metadata": {},
   "source": [
    "<img src=\"http://imgur.com/l5NasQj.png\" style=\"float: left; margin: 25px 15px 0px 0px; height: 25px\">\n",
    "### 9.2\n",
    "\n",
    "The game is no fun if the characters are wildly unbalanced! Are any characters \"overpowered\", which we'll define as having a \"Total\" more than three standard deviations from the population mean?"
   ]
  },
  {
   "cell_type": "code",
   "execution_count": 31,
   "metadata": {},
   "outputs": [
    {
     "data": {
      "text/plain": [
       "<matplotlib.axes._subplots.AxesSubplot at 0xe0537f0>"
      ]
     },
     "execution_count": 31,
     "metadata": {},
     "output_type": "execute_result"
    },
    {
     "data": {
      "image/png": "[encoded data removed]",
      "text/plain": [
       "<matplotlib.figure.Figure at 0xe053208>"
      ]
     },
     "metadata": {},
     "output_type": "display_data"
    }
   ],
   "source": [
    "import seaborn as sns\n",
    "sns.distplot(total_attr)"
   ]
  },
  {
   "cell_type": "code",
   "execution_count": 30,
   "metadata": {},
   "outputs": [
    {
     "name": "stdout",
     "output_type": "stream",
     "text": [
      "781.0853968006772\n"
     ]
    },
    {
     "data": {
      "text/plain": [
       "[]"
      ]
     },
     "execution_count": 30,
     "metadata": {},
     "output_type": "execute_result"
    }
   ],
   "source": [
    "overpowered_value = (3 * std) + mean\n",
    "print overpowered_value \n",
    "# Out[]: 781.0853968006772\n",
    "# Look for Pokemon that has Total > overpowered_value\n",
    "[ta for ta in [x for x in total_attr if x > overpowered_value]]"
   ]
  },
  {
   "cell_type": "markdown",
   "metadata": {},
   "source": [
    "# Noel: There is no characters \"overpowered\", result above shows no pokemon has Total > 781.08."
   ]
  },
  {
   "cell_type": "markdown",
   "metadata": {},
   "source": [
    "# WAIT A MINUTE !!!!!!!!!!!!!"
   ]
  },
  {
   "cell_type": "markdown",
   "metadata": {},
   "source": [
    "# MewtwoMega Mewtwo X had Total = 800'\n",
    "<img src=\"https://i.imgur.com/Orxkd3c.jpg\" >\n",
    "\n",
    "#### But it was removed when \"Write a function to generate the full pokedex.\"\n",
    "#### Reason is : Dictionary does not support 2x identical KEYS. The dict() functions removes duplicate KEYS internally.\n",
    "    single_pk_dict = {}\n",
    "    dict_key = row[0]       \n",
    "    value = dict(zip(header_v2,row[1:])) \n",
    "    single_pk_dict[dict_key] = value"
   ]
  },
  {
   "cell_type": "markdown",
   "metadata": {},
   "source": [
    "<img src=\"http://imgur.com/xDpSobf.png\" style=\"float: left; margin: 25px 15px 0px 0px; height: 25px\">\n",
    "\n",
    "## 10. Calibrate the frequency of Pokemon\n",
    "\n",
    "The design team wants you to make the powerful Pokemon rare, and the weaklings more common. How would you set the probability $p_i$ of finding Pokemon *i* each time a player visits a gym?\n",
    "\n",
    "Write a function that takes in a Pokedex number and returns a value $p_i$ for that character.\n",
    "\n",
    "Hint: there are many ways you could do this. What do _you_ think makes sense? Start with simplifying assumptions: for example, you could assume that the probabilities of encountering any two Pokemon on one visit to a gym are independent of each other."
   ]
  },
  {
   "cell_type": "code",
   "execution_count": null,
   "metadata": {},
   "outputs": [],
   "source": []
  },
  {
   "cell_type": "code",
   "execution_count": null,
   "metadata": {},
   "outputs": [],
   "source": []
  }
 ],
 "metadata": {
  "anaconda-cloud": {},
  "kernelspec": {
   "display_name": "Python 2",
   "language": "python",
   "name": "python2"
  },
  "language_info": {
   "codemirror_mode": {
    "name": "ipython",
    "version": 2
   },
   "file_extension": ".py",
   "mimetype": "text/x-python",
   "name": "python",
   "nbconvert_exporter": "python",
   "pygments_lexer": "ipython2",
   "version": "2.7.14"
  }
 },
 "nbformat": 4,
 "nbformat_minor": 1
}
